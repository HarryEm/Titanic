{
 "cells": [
  {
   "cell_type": "markdown",
   "metadata": {},
   "source": [
    "# Headline\n",
    "\n",
    "stuff\n",
    "\n",
    "## Smaller headline\n",
    "\n",
    "more stuff"
   ]
  },
  {
   "cell_type": "code",
   "execution_count": 21,
   "metadata": {},
   "outputs": [
    {
     "name": "stdout",
     "output_type": "stream",
     "text": [
      "Hello World\n"
     ]
    }
   ],
   "source": [
    "print ('Hello World')"
   ]
  },
  {
   "cell_type": "code",
   "execution_count": 22,
   "metadata": {},
   "outputs": [
    {
     "data": {
      "text/plain": [
       "'Hello World'"
      ]
     },
     "execution_count": 22,
     "metadata": {},
     "output_type": "execute_result"
    }
   ],
   "source": [
    "'Hello World'"
   ]
  },
  {
   "cell_type": "code",
   "execution_count": 23,
   "metadata": {
    "collapsed": true
   },
   "outputs": [],
   "source": [
    "name = \"John\""
   ]
  },
  {
   "cell_type": "code",
   "execution_count": 24,
   "metadata": {},
   "outputs": [
    {
     "data": {
      "text/plain": [
       "'John'"
      ]
     },
     "execution_count": 24,
     "metadata": {},
     "output_type": "execute_result"
    }
   ],
   "source": [
    "name"
   ]
  },
  {
   "cell_type": "code",
   "execution_count": 28,
   "metadata": {},
   "outputs": [
    {
     "name": "stdout",
     "output_type": "stream",
     "text": [
      "\u001b[31mDEPRECATION: The default format will switch to columns in the future. You can use --format=(legacy|columns) (or define a format=(legacy|columns) in your pip.conf under the [list] section) to disable this warning.\u001b[0m\r\n",
      "alabaster (0.7.10)\r\n",
      "anaconda-client (1.6.5)\r\n",
      "anaconda-navigator (1.6.8)\r\n",
      "anaconda-project (0.8.0)\r\n",
      "appnope (0.1.0)\r\n",
      "appscript (1.0.1)\r\n",
      "asn1crypto (0.22.0)\r\n",
      "astroid (1.5.3)\r\n",
      "astropy (2.0.2)\r\n",
      "Babel (2.5.0)\r\n",
      "backports.shutil-get-terminal-size (1.0.0)\r\n",
      "beautifulsoup4 (4.6.0)\r\n",
      "bitarray (0.8.1)\r\n",
      "bkcharts (0.2)\r\n",
      "blaze (0.11.3)\r\n",
      "bleach (2.0.0)\r\n",
      "bokeh (0.12.7)\r\n",
      "boto (2.48.0)\r\n",
      "Bottleneck (1.2.1)\r\n",
      "certifi (2017.7.27.1)\r\n",
      "cffi (1.10.0)\r\n",
      "chardet (3.0.4)\r\n",
      "click (6.7)\r\n",
      "cloudpickle (0.4.0)\r\n",
      "clyent (1.2.2)\r\n",
      "colorama (0.3.9)\r\n",
      "conda (4.3.27)\r\n",
      "conda-build (3.0.22)\r\n",
      "conda-verify (2.0.0)\r\n",
      "contextlib2 (0.5.5)\r\n",
      "cryptography (2.0.3)\r\n",
      "cycler (0.10.0)\r\n",
      "Cython (0.26.1)\r\n",
      "cytoolz (0.8.2)\r\n",
      "dask (0.15.2)\r\n",
      "datashape (0.5.4)\r\n",
      "decorator (4.1.2)\r\n",
      "distributed (1.18.3)\r\n",
      "docutils (0.14)\r\n",
      "entrypoints (0.2.3)\r\n",
      "et-xmlfile (1.0.1)\r\n",
      "fastcache (1.0.2)\r\n",
      "filelock (2.0.12)\r\n",
      "Flask (0.12.2)\r\n",
      "Flask-Cors (3.0.3)\r\n",
      "gevent (1.2.2)\r\n",
      "glob2 (0.5)\r\n",
      "gmpy2 (2.0.8)\r\n",
      "greenlet (0.4.12)\r\n",
      "h5py (2.7.0)\r\n",
      "heapdict (1.0.0)\r\n",
      "html5lib (0.999999999)\r\n",
      "idna (2.6)\r\n",
      "imageio (2.2.0)\r\n",
      "imagesize (0.7.1)\r\n",
      "ipykernel (4.6.1)\r\n",
      "ipython (6.1.0)\r\n",
      "ipython-genutils (0.2.0)\r\n",
      "ipywidgets (7.0.0)\r\n",
      "isort (4.2.15)\r\n",
      "itsdangerous (0.24)\r\n",
      "jdcal (1.3)\r\n",
      "jedi (0.10.2)\r\n",
      "Jinja2 (2.9.6)\r\n",
      "jsonschema (2.6.0)\r\n",
      "jupyter-client (5.1.0)\r\n",
      "jupyter-console (5.2.0)\r\n",
      "jupyter-core (4.3.0)\r\n",
      "jupyterlab (0.27.0)\r\n",
      "jupyterlab-launcher (0.4.0)\r\n",
      "lazy-object-proxy (1.3.1)\r\n",
      "llvmlite (0.20.0)\r\n",
      "locket (0.2.0)\r\n",
      "lxml (3.8.0)\r\n",
      "MarkupSafe (1.0)\r\n",
      "matplotlib (2.0.2)\r\n",
      "mccabe (0.6.1)\r\n",
      "mistune (0.7.4)\r\n",
      "mpmath (0.19)\r\n",
      "msgpack-python (0.4.8)\r\n",
      "multipledispatch (0.4.9)\r\n",
      "navigator-updater (0.1.0)\r\n",
      "nbconvert (5.3.1)\r\n",
      "nbformat (4.4.0)\r\n",
      "networkx (1.11)\r\n",
      "nltk (3.2.4)\r\n",
      "nose (1.3.7)\r\n",
      "notebook (5.0.0)\r\n",
      "numba (0.35.0+6.gaa35fb1)\r\n",
      "numexpr (2.6.2)\r\n",
      "numpy (1.13.1)\r\n",
      "numpydoc (0.7.0)\r\n",
      "odo (0.5.1)\r\n",
      "olefile (0.44)\r\n",
      "openpyxl (2.4.8)\r\n",
      "packaging (16.8)\r\n",
      "pandas (0.20.3)\r\n",
      "pandocfilters (1.4.2)\r\n",
      "partd (0.3.8)\r\n",
      "path.py (10.3.1)\r\n",
      "pathlib2 (2.3.0)\r\n",
      "patsy (0.4.1)\r\n",
      "pep8 (1.7.0)\r\n",
      "pexpect (4.2.1)\r\n",
      "pickleshare (0.7.4)\r\n",
      "Pillow (4.2.1)\r\n",
      "pip (9.0.1)\r\n",
      "pkginfo (1.4.1)\r\n",
      "ply (3.10)\r\n",
      "prompt-toolkit (1.0.15)\r\n",
      "psutil (5.2.2)\r\n",
      "ptyprocess (0.5.2)\r\n",
      "py (1.4.34)\r\n",
      "pycodestyle (2.3.1)\r\n",
      "pycosat (0.6.2)\r\n",
      "pycparser (2.18)\r\n",
      "pycrypto (2.6.1)\r\n",
      "pycurl (7.43.0)\r\n",
      "pyflakes (1.5.0)\r\n",
      "Pygments (2.2.0)\r\n",
      "pylint (1.7.2)\r\n",
      "pyodbc (4.0.17)\r\n",
      "pyOpenSSL (17.2.0)\r\n",
      "pyparsing (2.2.0)\r\n",
      "PySocks (1.6.7)\r\n",
      "pytest (3.2.1)\r\n",
      "python-dateutil (2.6.1)\r\n",
      "pytz (2017.2)\r\n",
      "PyWavelets (0.5.2)\r\n",
      "PyYAML (3.12)\r\n",
      "pyzmq (16.0.2)\r\n",
      "QtAwesome (0.4.4)\r\n",
      "qtconsole (4.3.1)\r\n",
      "QtPy (1.3.1)\r\n",
      "requests (2.18.4)\r\n",
      "rope (0.10.5)\r\n",
      "ruamel-yaml (0.11.14)\r\n",
      "scikit-image (0.13.0)\r\n",
      "scikit-learn (0.19.0)\r\n",
      "scipy (0.19.1)\r\n",
      "seaborn (0.8)\r\n",
      "setuptools (36.5.0.post20170921)\r\n",
      "simplegeneric (0.8.1)\r\n",
      "singledispatch (3.4.0.3)\r\n",
      "six (1.10.0)\r\n",
      "snowballstemmer (1.2.1)\r\n",
      "sortedcollections (0.5.3)\r\n",
      "sortedcontainers (1.5.7)\r\n",
      "Sphinx (1.6.3)\r\n",
      "sphinxcontrib-websupport (1.0.1)\r\n",
      "spyder (3.2.3)\r\n",
      "SQLAlchemy (1.1.13)\r\n",
      "statsmodels (0.8.0)\r\n",
      "sympy (1.1.1)\r\n",
      "tables (3.4.2)\r\n",
      "tblib (1.3.2)\r\n",
      "terminado (0.6)\r\n",
      "testpath (0.3.1)\r\n",
      "toolz (0.8.2)\r\n",
      "tornado (4.5.2)\r\n",
      "traitlets (4.3.2)\r\n",
      "typing (3.6.2)\r\n",
      "unicodecsv (0.14.1)\r\n",
      "urllib3 (1.22)\r\n",
      "wcwidth (0.1.7)\r\n",
      "webencodings (0.5.1)\r\n",
      "Werkzeug (0.12.2)\r\n",
      "wheel (0.29.0)\r\n",
      "widgetsnbextension (3.0.2)\r\n",
      "wrapt (1.10.11)\r\n",
      "xgboost (0.6a2)\r\n",
      "xlrd (1.1.0)\r\n",
      "XlsxWriter (0.9.8)\r\n",
      "xlwings (0.11.4)\r\n",
      "xlwt (1.2.0)\r\n",
      "zict (0.1.2)\r\n"
     ]
    }
   ],
   "source": [
    "!pip list"
   ]
  },
  {
   "cell_type": "code",
   "execution_count": 29,
   "metadata": {},
   "outputs": [
    {
     "data": {
      "application/json": {
       "cell": {
        "!": "OSMagics",
        "HTML": "Other",
        "SVG": "Other",
        "bash": "Other",
        "capture": "ExecutionMagics",
        "debug": "ExecutionMagics",
        "file": "Other",
        "html": "DisplayMagics",
        "javascript": "DisplayMagics",
        "js": "DisplayMagics",
        "latex": "DisplayMagics",
        "markdown": "DisplayMagics",
        "perl": "Other",
        "prun": "ExecutionMagics",
        "pypy": "Other",
        "python": "Other",
        "python2": "Other",
        "python3": "Other",
        "ruby": "Other",
        "script": "ScriptMagics",
        "sh": "Other",
        "svg": "DisplayMagics",
        "sx": "OSMagics",
        "system": "OSMagics",
        "time": "ExecutionMagics",
        "timeit": "ExecutionMagics",
        "writefile": "OSMagics"
       },
       "line": {
        "alias": "OSMagics",
        "alias_magic": "BasicMagics",
        "autocall": "AutoMagics",
        "automagic": "AutoMagics",
        "autosave": "KernelMagics",
        "bookmark": "OSMagics",
        "cat": "Other",
        "cd": "OSMagics",
        "clear": "KernelMagics",
        "colors": "BasicMagics",
        "config": "ConfigMagics",
        "connect_info": "KernelMagics",
        "cp": "Other",
        "debug": "ExecutionMagics",
        "dhist": "OSMagics",
        "dirs": "OSMagics",
        "doctest_mode": "BasicMagics",
        "ed": "Other",
        "edit": "KernelMagics",
        "env": "OSMagics",
        "gui": "BasicMagics",
        "hist": "Other",
        "history": "HistoryMagics",
        "killbgscripts": "ScriptMagics",
        "ldir": "Other",
        "less": "KernelMagics",
        "lf": "Other",
        "lk": "Other",
        "ll": "Other",
        "load": "CodeMagics",
        "load_ext": "ExtensionMagics",
        "loadpy": "CodeMagics",
        "logoff": "LoggingMagics",
        "logon": "LoggingMagics",
        "logstart": "LoggingMagics",
        "logstate": "LoggingMagics",
        "logstop": "LoggingMagics",
        "ls": "Other",
        "lsmagic": "BasicMagics",
        "lx": "Other",
        "macro": "ExecutionMagics",
        "magic": "BasicMagics",
        "man": "KernelMagics",
        "matplotlib": "PylabMagics",
        "mkdir": "Other",
        "more": "KernelMagics",
        "mv": "Other",
        "notebook": "BasicMagics",
        "page": "BasicMagics",
        "pastebin": "CodeMagics",
        "pdb": "ExecutionMagics",
        "pdef": "NamespaceMagics",
        "pdoc": "NamespaceMagics",
        "pfile": "NamespaceMagics",
        "pinfo": "NamespaceMagics",
        "pinfo2": "NamespaceMagics",
        "pip": "BasicMagics",
        "popd": "OSMagics",
        "pprint": "BasicMagics",
        "precision": "BasicMagics",
        "profile": "BasicMagics",
        "prun": "ExecutionMagics",
        "psearch": "NamespaceMagics",
        "psource": "NamespaceMagics",
        "pushd": "OSMagics",
        "pwd": "OSMagics",
        "pycat": "OSMagics",
        "pylab": "PylabMagics",
        "qtconsole": "KernelMagics",
        "quickref": "BasicMagics",
        "recall": "HistoryMagics",
        "rehashx": "OSMagics",
        "reload_ext": "ExtensionMagics",
        "rep": "Other",
        "rerun": "HistoryMagics",
        "reset": "NamespaceMagics",
        "reset_selective": "NamespaceMagics",
        "rm": "Other",
        "rmdir": "Other",
        "run": "ExecutionMagics",
        "save": "CodeMagics",
        "sc": "OSMagics",
        "set_env": "OSMagics",
        "store": "StoreMagics",
        "sx": "OSMagics",
        "system": "OSMagics",
        "tb": "ExecutionMagics",
        "time": "ExecutionMagics",
        "timeit": "ExecutionMagics",
        "unalias": "OSMagics",
        "unload_ext": "ExtensionMagics",
        "who": "NamespaceMagics",
        "who_ls": "NamespaceMagics",
        "whos": "NamespaceMagics",
        "xdel": "NamespaceMagics",
        "xmode": "BasicMagics"
       }
      },
      "text/plain": [
       "Available line magics:\n",
       "%alias  %alias_magic  %autocall  %automagic  %autosave  %bookmark  %cat  %cd  %clear  %colors  %config  %connect_info  %cp  %debug  %dhist  %dirs  %doctest_mode  %ed  %edit  %env  %gui  %hist  %history  %killbgscripts  %ldir  %less  %lf  %lk  %ll  %load  %load_ext  %loadpy  %logoff  %logon  %logstart  %logstate  %logstop  %ls  %lsmagic  %lx  %macro  %magic  %man  %matplotlib  %mkdir  %more  %mv  %notebook  %page  %pastebin  %pdb  %pdef  %pdoc  %pfile  %pinfo  %pinfo2  %popd  %pprint  %precision  %profile  %prun  %psearch  %psource  %pushd  %pwd  %pycat  %pylab  %qtconsole  %quickref  %recall  %rehashx  %reload_ext  %rep  %rerun  %reset  %reset_selective  %rm  %rmdir  %run  %save  %sc  %set_env  %store  %sx  %system  %tb  %time  %timeit  %unalias  %unload_ext  %who  %who_ls  %whos  %xdel  %xmode\n",
       "\n",
       "Available cell magics:\n",
       "%%!  %%HTML  %%SVG  %%bash  %%capture  %%debug  %%file  %%html  %%javascript  %%js  %%latex  %%markdown  %%perl  %%prun  %%pypy  %%python  %%python2  %%python3  %%ruby  %%script  %%sh  %%svg  %%sx  %%system  %%time  %%timeit  %%writefile\n",
       "\n",
       "Automagic is ON, % prefix IS NOT needed for line magics."
      ]
     },
     "execution_count": 29,
     "metadata": {},
     "output_type": "execute_result"
    }
   ],
   "source": [
    "%lsmagic"
   ]
  },
  {
   "cell_type": "code",
   "execution_count": 30,
   "metadata": {},
   "outputs": [
    {
     "data": {
      "text/plain": [
       "'/Users/harryemeric/Documents/Coursera/Kaggle/Titanic'"
      ]
     },
     "execution_count": 30,
     "metadata": {},
     "output_type": "execute_result"
    }
   ],
   "source": [
    "%pwd"
   ]
  },
  {
   "cell_type": "code",
   "execution_count": 31,
   "metadata": {},
   "outputs": [
    {
     "name": "stdout",
     "output_type": "stream",
     "text": [
      "Testing Jupyter.ipynb  TitanicKernel.nb.html  test.csv\r\n",
      "Titanic.R              predictions.csv        train.csv\r\n",
      "TitanicKernel.Rmd      readme.md\r\n"
     ]
    }
   ],
   "source": [
    "%ls"
   ]
  },
  {
   "cell_type": "code",
   "execution_count": 33,
   "metadata": {},
   "outputs": [],
   "source": [
    "%matplotlib inline"
   ]
  },
  {
   "cell_type": "code",
   "execution_count": 34,
   "metadata": {},
   "outputs": [
    {
     "data": {
      "text/html": [
       "<iframe width=\"560\",height=\"315\",src=\"https://www.youtube.com/watch?v=HW29067qVWk\">"
      ],
      "text/plain": [
       "<IPython.core.display.HTML object>"
      ]
     },
     "metadata": {},
     "output_type": "display_data"
    }
   ],
   "source": [
    "%%HTML\n",
    "<iframe width=\"560\",height=\"315\",src=\"https://www.youtube.com/watch?v=HW29067qVWk\">"
   ]
  },
  {
   "cell_type": "code",
   "execution_count": 47,
   "metadata": {},
   "outputs": [
    {
     "data": {
      "text/html": [
       "<div>\n",
       "<style>\n",
       "    .dataframe thead tr:only-child th {\n",
       "        text-align: right;\n",
       "    }\n",
       "\n",
       "    .dataframe thead th {\n",
       "        text-align: left;\n",
       "    }\n",
       "\n",
       "    .dataframe tbody tr th {\n",
       "        vertical-align: top;\n",
       "    }\n",
       "</style>\n",
       "<table border=\"1\" class=\"dataframe\">\n",
       "  <thead>\n",
       "    <tr style=\"text-align: right;\">\n",
       "      <th></th>\n",
       "      <th>0</th>\n",
       "      <th>1</th>\n",
       "      <th>2</th>\n",
       "      <th>3</th>\n",
       "      <th>4</th>\n",
       "    </tr>\n",
       "  </thead>\n",
       "  <tbody>\n",
       "    <tr>\n",
       "      <th>0</th>\n",
       "      <td>-2.111076</td>\n",
       "      <td>-0.214099</td>\n",
       "      <td>-1.267971</td>\n",
       "      <td>1.479981</td>\n",
       "      <td>-0.283272</td>\n",
       "    </tr>\n",
       "    <tr>\n",
       "      <th>1</th>\n",
       "      <td>-0.298308</td>\n",
       "      <td>-0.006397</td>\n",
       "      <td>-0.788555</td>\n",
       "      <td>-0.027064</td>\n",
       "      <td>-0.472561</td>\n",
       "    </tr>\n",
       "    <tr>\n",
       "      <th>2</th>\n",
       "      <td>-0.584086</td>\n",
       "      <td>1.428476</td>\n",
       "      <td>-0.753607</td>\n",
       "      <td>0.079321</td>\n",
       "      <td>-1.408293</td>\n",
       "    </tr>\n",
       "    <tr>\n",
       "      <th>3</th>\n",
       "      <td>-3.297571</td>\n",
       "      <td>1.327852</td>\n",
       "      <td>0.068767</td>\n",
       "      <td>0.221387</td>\n",
       "      <td>-1.555448</td>\n",
       "    </tr>\n",
       "    <tr>\n",
       "      <th>4</th>\n",
       "      <td>0.937531</td>\n",
       "      <td>0.819755</td>\n",
       "      <td>-0.362932</td>\n",
       "      <td>0.463584</td>\n",
       "      <td>-2.207213</td>\n",
       "    </tr>\n",
       "  </tbody>\n",
       "</table>\n",
       "</div>"
      ],
      "text/plain": [
       "          0         1         2         3         4\n",
       "0 -2.111076 -0.214099 -1.267971  1.479981 -0.283272\n",
       "1 -0.298308 -0.006397 -0.788555 -0.027064 -0.472561\n",
       "2 -0.584086  1.428476 -0.753607  0.079321 -1.408293\n",
       "3 -3.297571  1.327852  0.068767  0.221387 -1.555448\n",
       "4  0.937531  0.819755 -0.362932  0.463584 -2.207213"
      ]
     },
     "execution_count": 47,
     "metadata": {},
     "output_type": "execute_result"
    }
   ],
   "source": [
    "import pandas as pd\n",
    "import numpy as np\n",
    "\n",
    "df = pd.DataFrame(np.random.randn(10,5))\n",
    "df\n",
    "df.head()"
   ]
  },
  {
   "cell_type": "code",
   "execution_count": 37,
   "metadata": {
    "collapsed": true
   },
   "outputs": [],
   "source": []
  },
  {
   "cell_type": "code",
   "execution_count": null,
   "metadata": {
    "collapsed": true
   },
   "outputs": [],
   "source": []
  }
 ],
 "metadata": {
  "kernelspec": {
   "display_name": "Python 3",
   "language": "python",
   "name": "python3"
  },
  "language_info": {
   "codemirror_mode": {
    "name": "ipython",
    "version": 3
   },
   "file_extension": ".py",
   "mimetype": "text/x-python",
   "name": "python",
   "nbconvert_exporter": "python",
   "pygments_lexer": "ipython3",
   "version": "3.6.2"
  }
 },
 "nbformat": 4,
 "nbformat_minor": 2
}
